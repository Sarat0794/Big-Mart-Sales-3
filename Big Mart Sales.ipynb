{
 "cells": [
  {
   "cell_type": "code",
   "execution_count": 1,
   "metadata": {},
   "outputs": [],
   "source": [
    "#Importing the essential libraries\n",
    "import pandas as pd\n",
    "import numpy as np\n",
    "import matplotlib.pyplot as plt\n",
    "#Importing the dataset\n",
    "dataset_train=pd.read_csv(\"Train_UWu5bXk.csv\")\n",
    "dataset_test=pd.read_csv(\"Test_u94Q5KV.csv\")"
   ]
  },
  {
   "cell_type": "markdown",
   "metadata": {},
   "source": [
    "# DATA PREPROCESSING"
   ]
  },
  {
   "cell_type": "code",
   "execution_count": 2,
   "metadata": {},
   "outputs": [
    {
     "name": "stderr",
     "output_type": "stream",
     "text": [
      "C:\\Users\\banak\\Anaconda3\\lib\\site-packages\\ipykernel_launcher.py:2: FutureWarning: Sorting because non-concatenation axis is not aligned. A future version\n",
      "of pandas will change to not sort by default.\n",
      "\n",
      "To accept the future behavior, pass 'sort=False'.\n",
      "\n",
      "To retain the current behavior and silence the warning, pass 'sort=True'.\n",
      "\n",
      "  \n"
     ]
    }
   ],
   "source": [
    "#Two different dataset are given for test and train. Therefore concatinating them for data preprocessing\n",
    "dataset=pd.concat([dataset_train,dataset_test], axis=0,ignore_index=True) #axis=0 adds the other dataset to the bottem of other dataset\n",
    "\n",
    "#Separating the dependent variable \"y\" from the dataset\n",
    "x=dataset.iloc[:,dataset.columns!='Item_Outlet_Sales'] #iloc: integer location\n",
    "y=dataset.loc[:,['Item_Outlet_Sales']] \n",
    "#import statistics\n",
    "#statistics.mean(dataset['Item_Visibility'])"
   ]
  },
  {
   "cell_type": "code",
   "execution_count": 3,
   "metadata": {},
   "outputs": [
    {
     "data": {
      "text/html": [
       "<div>\n",
       "<style scoped>\n",
       "    .dataframe tbody tr th:only-of-type {\n",
       "        vertical-align: middle;\n",
       "    }\n",
       "\n",
       "    .dataframe tbody tr th {\n",
       "        vertical-align: top;\n",
       "    }\n",
       "\n",
       "    .dataframe thead th {\n",
       "        text-align: right;\n",
       "    }\n",
       "</style>\n",
       "<table border=\"1\" class=\"dataframe\">\n",
       "  <thead>\n",
       "    <tr style=\"text-align: right;\">\n",
       "      <th></th>\n",
       "      <th>Item_Fat_Content</th>\n",
       "      <th>Item_Identifier</th>\n",
       "      <th>Item_MRP</th>\n",
       "      <th>Item_Outlet_Sales</th>\n",
       "      <th>Item_Type</th>\n",
       "      <th>Item_Visibility</th>\n",
       "      <th>Item_Weight</th>\n",
       "      <th>Outlet_Establishment_Year</th>\n",
       "      <th>Outlet_Identifier</th>\n",
       "      <th>Outlet_Location_Type</th>\n",
       "      <th>Outlet_Size</th>\n",
       "      <th>Outlet_Type</th>\n",
       "    </tr>\n",
       "  </thead>\n",
       "  <tbody>\n",
       "    <tr>\n",
       "      <th>0</th>\n",
       "      <td>Low Fat</td>\n",
       "      <td>FDA15</td>\n",
       "      <td>249.8092</td>\n",
       "      <td>3735.1380</td>\n",
       "      <td>Dairy</td>\n",
       "      <td>0.016047</td>\n",
       "      <td>9.30</td>\n",
       "      <td>1999</td>\n",
       "      <td>OUT049</td>\n",
       "      <td>Tier 1</td>\n",
       "      <td>Medium</td>\n",
       "      <td>Supermarket Type1</td>\n",
       "    </tr>\n",
       "    <tr>\n",
       "      <th>1</th>\n",
       "      <td>Regular</td>\n",
       "      <td>DRC01</td>\n",
       "      <td>48.2692</td>\n",
       "      <td>443.4228</td>\n",
       "      <td>Soft Drinks</td>\n",
       "      <td>0.019278</td>\n",
       "      <td>5.92</td>\n",
       "      <td>2009</td>\n",
       "      <td>OUT018</td>\n",
       "      <td>Tier 3</td>\n",
       "      <td>Medium</td>\n",
       "      <td>Supermarket Type2</td>\n",
       "    </tr>\n",
       "    <tr>\n",
       "      <th>2</th>\n",
       "      <td>Low Fat</td>\n",
       "      <td>FDN15</td>\n",
       "      <td>141.6180</td>\n",
       "      <td>2097.2700</td>\n",
       "      <td>Meat</td>\n",
       "      <td>0.016760</td>\n",
       "      <td>17.50</td>\n",
       "      <td>1999</td>\n",
       "      <td>OUT049</td>\n",
       "      <td>Tier 1</td>\n",
       "      <td>Medium</td>\n",
       "      <td>Supermarket Type1</td>\n",
       "    </tr>\n",
       "    <tr>\n",
       "      <th>3</th>\n",
       "      <td>Regular</td>\n",
       "      <td>FDX07</td>\n",
       "      <td>182.0950</td>\n",
       "      <td>732.3800</td>\n",
       "      <td>Fruits and Vegetables</td>\n",
       "      <td>0.000000</td>\n",
       "      <td>19.20</td>\n",
       "      <td>1998</td>\n",
       "      <td>OUT010</td>\n",
       "      <td>Tier 3</td>\n",
       "      <td>NaN</td>\n",
       "      <td>Grocery Store</td>\n",
       "    </tr>\n",
       "    <tr>\n",
       "      <th>4</th>\n",
       "      <td>Low Fat</td>\n",
       "      <td>NCD19</td>\n",
       "      <td>53.8614</td>\n",
       "      <td>994.7052</td>\n",
       "      <td>Household</td>\n",
       "      <td>0.000000</td>\n",
       "      <td>8.93</td>\n",
       "      <td>1987</td>\n",
       "      <td>OUT013</td>\n",
       "      <td>Tier 3</td>\n",
       "      <td>High</td>\n",
       "      <td>Supermarket Type1</td>\n",
       "    </tr>\n",
       "  </tbody>\n",
       "</table>\n",
       "</div>"
      ],
      "text/plain": [
       "  Item_Fat_Content Item_Identifier  Item_MRP  Item_Outlet_Sales  \\\n",
       "0          Low Fat           FDA15  249.8092          3735.1380   \n",
       "1          Regular           DRC01   48.2692           443.4228   \n",
       "2          Low Fat           FDN15  141.6180          2097.2700   \n",
       "3          Regular           FDX07  182.0950           732.3800   \n",
       "4          Low Fat           NCD19   53.8614           994.7052   \n",
       "\n",
       "               Item_Type  Item_Visibility  Item_Weight  \\\n",
       "0                  Dairy         0.016047         9.30   \n",
       "1            Soft Drinks         0.019278         5.92   \n",
       "2                   Meat         0.016760        17.50   \n",
       "3  Fruits and Vegetables         0.000000        19.20   \n",
       "4              Household         0.000000         8.93   \n",
       "\n",
       "   Outlet_Establishment_Year Outlet_Identifier Outlet_Location_Type  \\\n",
       "0                       1999            OUT049               Tier 1   \n",
       "1                       2009            OUT018               Tier 3   \n",
       "2                       1999            OUT049               Tier 1   \n",
       "3                       1998            OUT010               Tier 3   \n",
       "4                       1987            OUT013               Tier 3   \n",
       "\n",
       "  Outlet_Size        Outlet_Type  \n",
       "0      Medium  Supermarket Type1  \n",
       "1      Medium  Supermarket Type2  \n",
       "2      Medium  Supermarket Type1  \n",
       "3         NaN      Grocery Store  \n",
       "4        High  Supermarket Type1  "
      ]
     },
     "execution_count": 3,
     "metadata": {},
     "output_type": "execute_result"
    }
   ],
   "source": [
    "dataset.head()\n",
    "#Item Identifier,Outlet_Identifier might be useless"
   ]
  },
  {
   "cell_type": "code",
   "execution_count": 4,
   "metadata": {},
   "outputs": [
    {
     "data": {
      "text/html": [
       "<div>\n",
       "<style scoped>\n",
       "    .dataframe tbody tr th:only-of-type {\n",
       "        vertical-align: middle;\n",
       "    }\n",
       "\n",
       "    .dataframe tbody tr th {\n",
       "        vertical-align: top;\n",
       "    }\n",
       "\n",
       "    .dataframe thead th {\n",
       "        text-align: right;\n",
       "    }\n",
       "</style>\n",
       "<table border=\"1\" class=\"dataframe\">\n",
       "  <thead>\n",
       "    <tr style=\"text-align: right;\">\n",
       "      <th></th>\n",
       "      <th>Item_MRP</th>\n",
       "      <th>Item_Outlet_Sales</th>\n",
       "      <th>Item_Visibility</th>\n",
       "      <th>Item_Weight</th>\n",
       "      <th>Outlet_Establishment_Year</th>\n",
       "    </tr>\n",
       "  </thead>\n",
       "  <tbody>\n",
       "    <tr>\n",
       "      <th>count</th>\n",
       "      <td>14204.000000</td>\n",
       "      <td>8523.000000</td>\n",
       "      <td>14204.000000</td>\n",
       "      <td>11765.000000</td>\n",
       "      <td>14204.000000</td>\n",
       "    </tr>\n",
       "    <tr>\n",
       "      <th>mean</th>\n",
       "      <td>141.004977</td>\n",
       "      <td>2181.288914</td>\n",
       "      <td>0.065953</td>\n",
       "      <td>12.792854</td>\n",
       "      <td>1997.830681</td>\n",
       "    </tr>\n",
       "    <tr>\n",
       "      <th>std</th>\n",
       "      <td>62.086938</td>\n",
       "      <td>1706.499616</td>\n",
       "      <td>0.051459</td>\n",
       "      <td>4.652502</td>\n",
       "      <td>8.371664</td>\n",
       "    </tr>\n",
       "    <tr>\n",
       "      <th>min</th>\n",
       "      <td>31.290000</td>\n",
       "      <td>33.290000</td>\n",
       "      <td>0.000000</td>\n",
       "      <td>4.555000</td>\n",
       "      <td>1985.000000</td>\n",
       "    </tr>\n",
       "    <tr>\n",
       "      <th>25%</th>\n",
       "      <td>94.012000</td>\n",
       "      <td>834.247400</td>\n",
       "      <td>0.027036</td>\n",
       "      <td>8.710000</td>\n",
       "      <td>1987.000000</td>\n",
       "    </tr>\n",
       "    <tr>\n",
       "      <th>50%</th>\n",
       "      <td>142.247000</td>\n",
       "      <td>1794.331000</td>\n",
       "      <td>0.054021</td>\n",
       "      <td>12.600000</td>\n",
       "      <td>1999.000000</td>\n",
       "    </tr>\n",
       "    <tr>\n",
       "      <th>75%</th>\n",
       "      <td>185.855600</td>\n",
       "      <td>3101.296400</td>\n",
       "      <td>0.094037</td>\n",
       "      <td>16.750000</td>\n",
       "      <td>2004.000000</td>\n",
       "    </tr>\n",
       "    <tr>\n",
       "      <th>max</th>\n",
       "      <td>266.888400</td>\n",
       "      <td>13086.964800</td>\n",
       "      <td>0.328391</td>\n",
       "      <td>21.350000</td>\n",
       "      <td>2009.000000</td>\n",
       "    </tr>\n",
       "  </tbody>\n",
       "</table>\n",
       "</div>"
      ],
      "text/plain": [
       "           Item_MRP  Item_Outlet_Sales  Item_Visibility   Item_Weight  \\\n",
       "count  14204.000000        8523.000000     14204.000000  11765.000000   \n",
       "mean     141.004977        2181.288914         0.065953     12.792854   \n",
       "std       62.086938        1706.499616         0.051459      4.652502   \n",
       "min       31.290000          33.290000         0.000000      4.555000   \n",
       "25%       94.012000         834.247400         0.027036      8.710000   \n",
       "50%      142.247000        1794.331000         0.054021     12.600000   \n",
       "75%      185.855600        3101.296400         0.094037     16.750000   \n",
       "max      266.888400       13086.964800         0.328391     21.350000   \n",
       "\n",
       "       Outlet_Establishment_Year  \n",
       "count               14204.000000  \n",
       "mean                 1997.830681  \n",
       "std                     8.371664  \n",
       "min                  1985.000000  \n",
       "25%                  1987.000000  \n",
       "50%                  1999.000000  \n",
       "75%                  2004.000000  \n",
       "max                  2009.000000  "
      ]
     },
     "execution_count": 4,
     "metadata": {},
     "output_type": "execute_result"
    }
   ],
   "source": [
    "#Data Exploration\n",
    "dataset.describe()"
   ]
  },
  {
   "cell_type": "code",
   "execution_count": 5,
   "metadata": {},
   "outputs": [
    {
     "data": {
      "text/plain": [
       "0.000000    879\n",
       "0.076856      3\n",
       "0.076841      3\n",
       "0.077290      3\n",
       "0.077169      3\n",
       "0.076975      3\n",
       "0.077011      3\n",
       "0.076792      3\n",
       "0.076483      3\n",
       "0.046899      2\n",
       "0.159844      2\n",
       "0.135708      2\n",
       "0.135944      2\n",
       "0.072298      2\n",
       "0.136008      2\n",
       "0.136896      2\n",
       "0.203401      2\n",
       "0.081788      2\n",
       "0.075049      2\n",
       "0.058369      2\n",
       "0.104784      2\n",
       "0.080131      2\n",
       "0.072411      2\n",
       "0.024635      2\n",
       "0.052069      2\n",
       "0.079968      2\n",
       "0.179192      2\n",
       "0.079806      2\n",
       "0.121767      2\n",
       "0.080625      2\n",
       "           ... \n",
       "0.013147      1\n",
       "0.098790      1\n",
       "0.073397      1\n",
       "0.137756      1\n",
       "0.017937      1\n",
       "0.105126      1\n",
       "0.044156      1\n",
       "0.141639      1\n",
       "0.094411      1\n",
       "0.074883      1\n",
       "0.039236      1\n",
       "0.044497      1\n",
       "0.051147      1\n",
       "0.175061      1\n",
       "0.039034      1\n",
       "0.077508      1\n",
       "0.078943      1\n",
       "0.077170      1\n",
       "0.042959      1\n",
       "0.013173      1\n",
       "0.069939      1\n",
       "0.011305      1\n",
       "0.069042      1\n",
       "0.012216      1\n",
       "0.064142      1\n",
       "0.209684      1\n",
       "0.019592      1\n",
       "0.013530      1\n",
       "0.008772      1\n",
       "0.066817      1\n",
       "Name: Item_Visibility, Length: 13006, dtype: int64"
      ]
     },
     "execution_count": 5,
     "metadata": {},
     "output_type": "execute_result"
    }
   ],
   "source": [
    "dataset['Item_Visibility'].value_counts()\n",
    "# There are a total of 879 items with item visibility = 0. \n",
    "# 2 possibilities: The item may not be present in that store (or) They are missing values. \n",
    "# 2 ways to settle this issue: Remove that item (or) replace with mean "
   ]
  },
  {
   "cell_type": "code",
   "execution_count": 6,
   "metadata": {},
   "outputs": [
    {
     "data": {
      "text/html": [
       "<div>\n",
       "<style scoped>\n",
       "    .dataframe tbody tr th:only-of-type {\n",
       "        vertical-align: middle;\n",
       "    }\n",
       "\n",
       "    .dataframe tbody tr th {\n",
       "        vertical-align: top;\n",
       "    }\n",
       "\n",
       "    .dataframe thead th {\n",
       "        text-align: right;\n",
       "    }\n",
       "</style>\n",
       "<table border=\"1\" class=\"dataframe\">\n",
       "  <thead>\n",
       "    <tr style=\"text-align: right;\">\n",
       "      <th></th>\n",
       "      <th>Item_MRP</th>\n",
       "      <th>Item_Outlet_Sales</th>\n",
       "      <th>Item_Visibility</th>\n",
       "      <th>Item_Weight</th>\n",
       "      <th>Outlet_Establishment_Year</th>\n",
       "    </tr>\n",
       "  </thead>\n",
       "  <tbody>\n",
       "    <tr>\n",
       "      <th>Item_MRP</th>\n",
       "      <td>1.000000</td>\n",
       "      <td>0.567574</td>\n",
       "      <td>-0.006351</td>\n",
       "      <td>0.036236</td>\n",
       "      <td>0.000141</td>\n",
       "    </tr>\n",
       "    <tr>\n",
       "      <th>Item_Outlet_Sales</th>\n",
       "      <td>0.567574</td>\n",
       "      <td>1.000000</td>\n",
       "      <td>-0.128625</td>\n",
       "      <td>0.014123</td>\n",
       "      <td>-0.049135</td>\n",
       "    </tr>\n",
       "    <tr>\n",
       "      <th>Item_Visibility</th>\n",
       "      <td>-0.006351</td>\n",
       "      <td>-0.128625</td>\n",
       "      <td>1.000000</td>\n",
       "      <td>-0.015901</td>\n",
       "      <td>-0.083678</td>\n",
       "    </tr>\n",
       "    <tr>\n",
       "      <th>Item_Weight</th>\n",
       "      <td>0.036236</td>\n",
       "      <td>0.014123</td>\n",
       "      <td>-0.015901</td>\n",
       "      <td>1.000000</td>\n",
       "      <td>0.000645</td>\n",
       "    </tr>\n",
       "    <tr>\n",
       "      <th>Outlet_Establishment_Year</th>\n",
       "      <td>0.000141</td>\n",
       "      <td>-0.049135</td>\n",
       "      <td>-0.083678</td>\n",
       "      <td>0.000645</td>\n",
       "      <td>1.000000</td>\n",
       "    </tr>\n",
       "  </tbody>\n",
       "</table>\n",
       "</div>"
      ],
      "text/plain": [
       "                           Item_MRP  Item_Outlet_Sales  Item_Visibility  \\\n",
       "Item_MRP                   1.000000           0.567574        -0.006351   \n",
       "Item_Outlet_Sales          0.567574           1.000000        -0.128625   \n",
       "Item_Visibility           -0.006351          -0.128625         1.000000   \n",
       "Item_Weight                0.036236           0.014123        -0.015901   \n",
       "Outlet_Establishment_Year  0.000141          -0.049135        -0.083678   \n",
       "\n",
       "                           Item_Weight  Outlet_Establishment_Year  \n",
       "Item_MRP                      0.036236                   0.000141  \n",
       "Item_Outlet_Sales             0.014123                  -0.049135  \n",
       "Item_Visibility              -0.015901                  -0.083678  \n",
       "Item_Weight                   1.000000                   0.000645  \n",
       "Outlet_Establishment_Year     0.000645                   1.000000  "
      ]
     },
     "execution_count": 6,
     "metadata": {},
     "output_type": "execute_result"
    }
   ],
   "source": [
    "dataset.corr()"
   ]
  },
  {
   "cell_type": "raw",
   "metadata": {},
   "source": [
    "#Key Observations:\n",
    "    # 1) minimum Item Visibility is 0, i.e that particular item may not be present in that store. 0 can also be a MISSING VALUE. For now replacing the 0 with mean.\n",
    "    # 2) There are 4 continuous variables and 8 categorical values\n",
    "    # 3) The outlet_sales are not given for the test dataset.\n",
    "    # 4) There are missing values in Item_Weight"
   ]
  },
  {
   "cell_type": "raw",
   "metadata": {},
   "source": [
    "FIRST WE WILL DEAL WITH THE CATEGORICAL VARIABLES\n",
    "TO DO: Null value check, Wrongly spelled categories\n",
    "1) Item_Fat_Content\n",
    "2) Item_Type\n",
    "3) Outlet_Location_Type\n",
    "4) Outlet_Size\n",
    "5) Outlet_Type"
   ]
  },
  {
   "cell_type": "code",
   "execution_count": 7,
   "metadata": {},
   "outputs": [
    {
     "data": {
      "text/plain": [
       "Low Fat    8485\n",
       "Regular    4824\n",
       "LF          522\n",
       "reg         195\n",
       "low fat     178\n",
       "Name: Item_Fat_Content, dtype: int64"
      ]
     },
     "execution_count": 7,
     "metadata": {},
     "output_type": "execute_result"
    }
   ],
   "source": [
    "# Exploring each categorical variable\n",
    "dataset['Item_Fat_Content'].value_counts()"
   ]
  },
  {
   "cell_type": "code",
   "execution_count": 8,
   "metadata": {},
   "outputs": [
    {
     "data": {
      "text/plain": [
       "0"
      ]
     },
     "execution_count": 8,
     "metadata": {},
     "output_type": "execute_result"
    }
   ],
   "source": [
    "sum(dataset['Item_Fat_Content'].isnull())"
   ]
  },
  {
   "cell_type": "raw",
   "metadata": {},
   "source": [
    "#Observations:\n",
    "    # 1) Low Fat is also represented as LF and low fat\n",
    "    # 2) Regular is also represented as reg \n",
    "    # 3) No missing values"
   ]
  },
  {
   "cell_type": "code",
   "execution_count": 9,
   "metadata": {},
   "outputs": [
    {
     "data": {
      "text/plain": [
       "Low Fat    9185\n",
       "Regular    5019\n",
       "Name: Item_Fat_Content, dtype: int64"
      ]
     },
     "execution_count": 9,
     "metadata": {},
     "output_type": "execute_result"
    }
   ],
   "source": [
    "#Replacing LF and low fat with Low Fat and reg with Regular\n",
    "dataset['Item_Fat_Content']=dataset['Item_Fat_Content'].replace(['LF','low fat','reg'],['Low Fat','Low Fat','Regular'])\n",
    "dataset['Item_Fat_Content'].value_counts()\n",
    "##########################################################################################################################\n",
    "# 1st categorical variable is solved"
   ]
  },
  {
   "cell_type": "code",
   "execution_count": 10,
   "metadata": {},
   "outputs": [
    {
     "name": "stdout",
     "output_type": "stream",
     "text": [
      "number of missing values= 0\n",
      "/n\n",
      "Fruits and Vegetables    2013\n",
      "Snack Foods              1989\n",
      "Household                1548\n",
      "Frozen Foods             1426\n",
      "Dairy                    1136\n",
      "Baking Goods             1086\n",
      "Canned                   1084\n",
      "Health and Hygiene        858\n",
      "Meat                      736\n",
      "Soft Drinks               726\n",
      "Breads                    416\n",
      "Hard Drinks               362\n",
      "Others                    280\n",
      "Starchy Foods             269\n",
      "Breakfast                 186\n",
      "Seafood                    89\n",
      "Name: Item_Type, dtype: int64\n"
     ]
    }
   ],
   "source": [
    "print('number of missing values= %s'%(sum(dataset['Item_Type'].isnull())))\n",
    "print('/n')\n",
    "print(dataset['Item_Type'].value_counts())\n",
    "##########################################################################################################################\n",
    "#Nothing yet to solve for 2nd categorical variable."
   ]
  },
  {
   "cell_type": "code",
   "execution_count": 11,
   "metadata": {},
   "outputs": [
    {
     "name": "stdout",
     "output_type": "stream",
     "text": [
      "number of missing values= 0\n",
      "/n\n"
     ]
    },
    {
     "data": {
      "text/plain": [
       "Tier 3    5583\n",
       "Tier 2    4641\n",
       "Tier 1    3980\n",
       "Name: Outlet_Location_Type, dtype: int64"
      ]
     },
     "execution_count": 11,
     "metadata": {},
     "output_type": "execute_result"
    }
   ],
   "source": [
    "print('number of missing values= %s'%(sum(dataset['Outlet_Location_Type'].isnull())))\n",
    "print('/n')\n",
    "dataset['Outlet_Location_Type'].value_counts() \n",
    "##########################################################################################################################\n",
    "#Nothing yet to solve for 3rd categorical variable."
   ]
  },
  {
   "cell_type": "code",
   "execution_count": 12,
   "metadata": {},
   "outputs": [
    {
     "name": "stdout",
     "output_type": "stream",
     "text": [
      "number of missing values= 4016\n",
      "/n\n"
     ]
    },
    {
     "data": {
      "text/plain": [
       "Medium    4655\n",
       "Small     3980\n",
       "High      1553\n",
       "Name: Outlet_Size, dtype: int64"
      ]
     },
     "execution_count": 12,
     "metadata": {},
     "output_type": "execute_result"
    }
   ],
   "source": [
    "print('number of missing values= %s'%(sum(dataset['Outlet_Size'].isnull())))\n",
    "print('/n')\n",
    "dataset['Outlet_Size'].value_counts()"
   ]
  },
  {
   "cell_type": "raw",
   "metadata": {},
   "source": [
    "There are 4016 missing values in  the Outlet_Size column\n",
    "    STEPS TO IMPUTE THE MISSING VALUES OF THIS COLUMN: \n",
    "        1) Put all the null values in Outlet_Size column into one variable.\n",
    "        2) Put all the non-null values in Outlet_Size into other variable. \n",
    "        3) Check if ther are any missing values in other features. \n",
    "        4) Using proper strategies to impute those missing values \n",
    "        5) Then apply ML algorithm to impute missing values in Outlet_Size column.\n",
    "        \n",
    "############################################### Done ################################################################ "
   ]
  },
  {
   "cell_type": "code",
   "execution_count": 13,
   "metadata": {},
   "outputs": [],
   "source": [
    "#STEP-1\n",
    "#Putting all null values separately\n",
    "#Outlet_Size_Nulls=dataset.loc[dataset['Outlet_Size'].isnull()]\n",
    "#STEP-2\n",
    "#Putting all non-null values separately\n",
    "#Outlet_Size_NotNulls=dataset.loc[dataset['Outlet_Size'].notnull()]\n",
    "#STEP-3\n",
    "#Outlet_Size_NotNulls.isnull().any()\n",
    "#Item_Weight may not affect the Outlet_Size. Therefore dropping that column. \n",
    "#Outlet_Sales missing values are from test set. Therefore, removing that column too assuming that it have no affect on the Outlet_Size\n",
    "#STEP-4\n",
    "#Dropping the variables with missing values, which are assumed to have no effect on the Outlet_Size.\n",
    "#Outlet_Size_NotNulls=Outlet_Size_NotNulls.drop(['Item_Weight'], axis=1)\n",
    "#Outlet_Size_NotNulls=Outlet_Size_NotNulls.drop(['Item_Outlet_Sales'], axis=1)\n",
    "# STEP-5 Creating matrix of variables\n",
    "#Outlet_Size_NotNulls_x=Outlet_Size_NotNulls.loc[:,['Outlet_Location_Type','Outlet_Type']]\n",
    "#Outlet_Size_NotNulls_y=Outlet_Size_NotNulls.loc[:,'Outlet_Size']\n",
    "#from sklearn.preprocessing import LabelEncoder, OneHotEncoder\n",
    "#labelencoder_x=LabelEncoder()\n",
    "#Outlet_Size_NotNulls_x['Outlet_Location_Type']=labelencoder_x.fit_transform(Outlet_Size_NotNulls_x['Outlet_Location_Type'])\n",
    "#Outlet_Size_NotNulls_x['Outlet_Type']=labelencoder_x.fit_transform(Outlet_Size_NotNulls_x['Outlet_Type'])\n",
    "#onehotencoder=OneHotEncoder()\n",
    "#Outlet_Size_NotNulls_x=onehotencoder.fit_transform(Outlet_Size_NotNulls_x).toarray()\n",
    "#labelencoder_y=LabelEncoder()\n",
    "#Outlet_Size_NotNulls_y=labelencoder_y.fit_transform(Outlet_Size_NotNulls_y)\n",
    "#from sklearn.model_selection import train_test_split\n",
    "#Outlet_Size_NotNulls_x_train,Outlet_Size_NotNulls_x_test,Outlet_Size_NotNulls_y_train,Outlet_Size_NotNulls_y_test=train_test_split(Outlet_Size_NotNulls_x,Outlet_Size_NotNulls_y,test_size=0.2,random_state=0)\n",
    "# TRying KNN\n",
    "#from sklearn.neighbors import KNeighborsClassifier\n",
    "#KNNclassifier=KNeighborsClassifier(n_neighbors=5, metric='minkowski', p=2)\n",
    "#KNNclassifier.fit(Outlet_Size_NotNulls_x_train,Outlet_Size_NotNulls_y_train)\n",
    "#KNN_y_pred=KNNclassifier.predict(Outlet_Size_NotNulls_x_test)\n",
    "#from sklearn.metrics import confusion_matrix\n",
    "#Kcm=confusion_matrix(Outlet_Size_NotNulls_y_test, KNN_y_pred)\n",
    "#Trying SVM\n",
    "#from sklearn.svm import SVC\n",
    "#SVMclassifier=SVC(kernel='rbf', random_state=0)\n",
    "#SVMclassifier.fit(Outlet_Size_NotNulls_x_train,Outlet_Size_NotNulls_y_train)\n",
    "#SVM_y_pred=SVMclassifier.predict(Outlet_Size_NotNulls_x_test)\n",
    "#SVM_cm=confusion_matrix(Outlet_Size_NotNulls_y_test, SVM_y_pred)\n",
    "#from sklearn.linear_model import LogisticRegression\n",
    "#classifier=LogisticRegression(random_state=0)\n",
    "#classifier.fit(Outlet_Size_NotNulls_x_train,Outlet_Size_NotNulls_y_train)\n",
    "#y_pred=classifier.predict(Outlet_Size_NotNulls_x_test)\n",
    "#from sklearn.metrics import confusion_matrix\n",
    "#cm=confusion_matrix(Outlet_Size_NotNulls_y_test, y_pred)\n",
    "#labelencoder_y.inverse_transform(y_pred)\n",
    "####################################################################################################\n",
    "#dataset1=dataset.loc[dataset['Outlet_Size'].notnull()]\n",
    "#all_cols= dataset.loc[:,['Outlet_Location_Type','Outlet_Type','Outlet_Size']]\n",
    "\n",
    "#x_trn = dataset1.loc[:,['Outlet_Location_Type','Outlet_Type']]\n",
    "#y_trn=dataset1['Outlet_Size']\n",
    "\n",
    "#dataset2=dataset.loc[dataset['Outlet_Size'].isnull()]\n",
    "#x_tst = dataset2.loc[:,['Outlet_Location_Type','Outlet_Type']]\n",
    "#y_tst=dataset2['Outlet_Size']"
   ]
  },
  {
   "cell_type": "code",
   "execution_count": 14,
   "metadata": {},
   "outputs": [],
   "source": [
    "#####---------WORKED------------######\n",
    "\n",
    "# Filling the missing values in 'Outlet_Size' with the predicted values \n",
    "#Step-1: select only those variables that are assumed to have affect on 'Outlet_Size' prediction.\n",
    "#Step-2: do OHE for the selected variables \n",
    "dummy =pd.concat([pd.get_dummies(dataset[['Outlet_Location_Type','Outlet_Type','Outlet_Identifier']]), dataset[['Item_Visibility']]], axis=1)\n",
    "# Concatinating the 'Outlet_Size' to the selected variables dataset (dummy)\n",
    "dummy=pd.concat([dummy,dataset['Outlet_Size']], axis=1)"
   ]
  },
  {
   "cell_type": "code",
   "execution_count": 15,
   "metadata": {},
   "outputs": [
    {
     "data": {
      "text/plain": [
       "Outlet_Location_Type_Tier 1        uint8\n",
       "Outlet_Location_Type_Tier 2        uint8\n",
       "Outlet_Location_Type_Tier 3        uint8\n",
       "Outlet_Type_Grocery Store          uint8\n",
       "Outlet_Type_Supermarket Type1      uint8\n",
       "Outlet_Type_Supermarket Type2      uint8\n",
       "Outlet_Type_Supermarket Type3      uint8\n",
       "Outlet_Identifier_OUT010           uint8\n",
       "Outlet_Identifier_OUT013           uint8\n",
       "Outlet_Identifier_OUT017           uint8\n",
       "Outlet_Identifier_OUT018           uint8\n",
       "Outlet_Identifier_OUT019           uint8\n",
       "Outlet_Identifier_OUT027           uint8\n",
       "Outlet_Identifier_OUT035           uint8\n",
       "Outlet_Identifier_OUT045           uint8\n",
       "Outlet_Identifier_OUT046           uint8\n",
       "Outlet_Identifier_OUT049           uint8\n",
       "Item_Visibility                  float64\n",
       "Outlet_Size                       object\n",
       "dtype: object"
      ]
     },
     "execution_count": 15,
     "metadata": {},
     "output_type": "execute_result"
    }
   ],
   "source": [
    "#checking the datatypes of each variable after OHE\n",
    "dummy.dtypes"
   ]
  },
  {
   "cell_type": "code",
   "execution_count": 16,
   "metadata": {},
   "outputs": [],
   "source": [
    "# Step-3: separating the rows with 'NaN' values into two defferent datasets (NO_NAN and NAN) \n",
    "#from sklearn.preprocessing import LabelEncoder\n",
    "# Dataset without NaN values.\n",
    "NO_NAN = dummy.loc[dummy['Outlet_Size'].notnull()]\n",
    "Input=NO_NAN.iloc[:,:-1]\n",
    "Output=NO_NAN.iloc[:,-1]\n",
    "#Output=pd.get_dummies(Output)\n",
    "\n",
    "#labelencoder_x=LabelEncoder()\n",
    "#Output=labelencoder_x.fit_transform(Output)\n",
    "\n",
    "# Dataset with NaN values.\n",
    "NAN =  dummy.loc[dummy['Outlet_Size'].isnull()]\n",
    "ip = NAN.iloc[:,:-1]\n",
    "op = NAN.iloc[:,-1]\n",
    "#labelencoder_y=LabelEncoder()\n",
    "#op=labelencoder_y.fit_transform(op)\n",
    "\n",
    "# Step-4: seperating the NO_NAN dataset into train and test for testing if the predictions are correct or not\n",
    "from sklearn.model_selection import train_test_split\n",
    "Input_train,Input_test,Output_train,Output_test=train_test_split(Input,Output,test_size=0.2,random_state=0)\n",
    "\n"
   ]
  },
  {
   "cell_type": "code",
   "execution_count": 17,
   "metadata": {},
   "outputs": [
    {
     "data": {
      "text/plain": [
       "KNeighborsClassifier(algorithm='auto', leaf_size=30, metric='minkowski',\n",
       "           metric_params=None, n_jobs=None, n_neighbors=5, p=2,\n",
       "           weights='uniform')"
      ]
     },
     "execution_count": 17,
     "metadata": {},
     "output_type": "execute_result"
    }
   ],
   "source": [
    "# Trying KNN\n",
    "from sklearn.neighbors import KNeighborsClassifier\n",
    "KNNclassifier=KNeighborsClassifier(n_neighbors=5, metric='minkowski', p=2)\n",
    "KNNclassifier.fit(Input_train,Output_train)"
   ]
  },
  {
   "cell_type": "code",
   "execution_count": 18,
   "metadata": {},
   "outputs": [],
   "source": [
    "# Predicted values of NO_NAN test set\n",
    "KNN_y_pred=KNNclassifier.predict(Input_test)"
   ]
  },
  {
   "cell_type": "code",
   "execution_count": 19,
   "metadata": {},
   "outputs": [
    {
     "data": {
      "text/plain": [
       "array(['High', 'Medium', 'Small'], dtype=object)"
      ]
     },
     "execution_count": 19,
     "metadata": {},
     "output_type": "execute_result"
    }
   ],
   "source": [
    "# Unique values in prediction of test set\n",
    "np.unique(KNN_y_pred)"
   ]
  },
  {
   "cell_type": "code",
   "execution_count": 20,
   "metadata": {},
   "outputs": [
    {
     "data": {
      "text/plain": [
       "array(['High', 'Medium', 'Small'], dtype=object)"
      ]
     },
     "execution_count": 20,
     "metadata": {},
     "output_type": "execute_result"
    }
   ],
   "source": [
    "# Unique values for the predictions of null values\n",
    "np.unique(KNNclassifier.predict(ip))"
   ]
  },
  {
   "cell_type": "code",
   "execution_count": 21,
   "metadata": {},
   "outputs": [],
   "source": [
    "# Confusion matrix to check the predictions for NO_NAN test set\n",
    "from sklearn.metrics import confusion_matrix\n",
    "Kcm=confusion_matrix(Output_test, KNN_y_pred)"
   ]
  },
  {
   "cell_type": "code",
   "execution_count": 22,
   "metadata": {},
   "outputs": [
    {
     "data": {
      "text/plain": [
       "array([[280,   0,   0],\n",
       "       [  0, 951,   0],\n",
       "       [  0,   0, 807]], dtype=int64)"
      ]
     },
     "execution_count": 22,
     "metadata": {},
     "output_type": "execute_result"
    }
   ],
   "source": [
    "Kcm"
   ]
  },
  {
   "cell_type": "raw",
   "metadata": {},
   "source": [
    "Problems with ONE HOT ENCODER:\n",
    "    1) Could not select the required columns to convert. It is always considering the output variable too for conversion.\n",
    "    2) Do we have to do Label Encoding before OHE? What is the reason?\n",
    "    "
   ]
  },
  {
   "cell_type": "code",
   "execution_count": 23,
   "metadata": {},
   "outputs": [],
   "source": [
    "#For Train\n",
    "#from sklearn.preprocessing import LabelEncoder, OneHotEncoder\n",
    "#labelencoder_1=LabelEncoder()\n",
    "#labelencoder_2=LabelEncoder()\n",
    "#dataset['Outlet_Location_Type']=labelencoder_1.fit_transform(dataset['Outlet_Location_Type'])\n",
    "#dataset['Outlet_Type']=labelencoder_2.fit_transform(dataset['Outlet_Type'])\n",
    "#onehotencoder_1=OneHotEncoder(categorical_features='all')\n",
    "#dataset=onehotencoder_1.fit_transform(dataset).toarray()\n",
    "#For Train\n",
    "#from sklearn.preprocessing import LabelEncoder, OneHotEncoder\n",
    "#labelencoder_1=LabelEncoder()\n",
    "#labelencoder_2=LabelEncoder()\n",
    "#x_trn['Outlet_Location_Type']=labelencoder_1.fit_transform(x_trn['Outlet_Location_Type'])\n",
    "#x_trn['Outlet_Type']=labelencoder_2.fit_transform(x_trn['Outlet_Type'])\n",
    "#onehotencoder_1=OneHotEncoder(categorical_features='all')\n",
    "#x_trn=onehotencoder_1.fit_transform(x_trn).toarray()\n",
    "#labelencoder_3=LabelEncoder()\n",
    "#y_trn=labelencoder_3.fit_transform(y_trn)\n",
    "#x_trn=x_trn[:,1:] # Removing 1st column fot dummy variable trap\n",
    "#For Test (NUll Values)\n",
    "#labelencoder_4=LabelEncoder()\n",
    "#labelencoder_5=LabelEncoder()\n",
    "#x_tst['Outlet_Location_Type']=labelencoder_4.fit_transform(x_tst['Outlet_Location_Type'])\n",
    "#x_tst['Outlet_Type']=labelencoder_5.fit_transform(x_tst['Outlet_Type'])\n",
    "\n",
    "#onehotencoder_2=OneHotEncoder(categorical_features='all')\n",
    "#x_tst=onehotencoder_2.fit_transform(x_tst).toarray()\n",
    "\n",
    "#x_tst=x_tst[:,1:] "
   ]
  },
  {
   "cell_type": "code",
   "execution_count": 24,
   "metadata": {},
   "outputs": [
    {
     "data": {
      "text/plain": [
       "'Medium'"
      ]
     },
     "execution_count": 24,
     "metadata": {},
     "output_type": "execute_result"
    }
   ],
   "source": [
    "dataset['Outlet_Size'][1]"
   ]
  },
  {
   "cell_type": "code",
   "execution_count": 25,
   "metadata": {},
   "outputs": [],
   "source": [
    "#It did not work: Have to check the problem later.\n",
    "#dataset['Outlet_Size'].fillna(0, inplace=True)\n",
    "#for i in range(0,len(dataset)):\n",
    "    #if dataset['Outlet_Size'][i]==0:\n",
    "        \n",
    "        #dataset['Outlet_Size'][i]=dataset['Outlet_Size'][i].replace(0, KNNclassifier.predict(dataset['Outlet_Size'][i]))"
   ]
  },
  {
   "cell_type": "code",
   "execution_count": 31,
   "metadata": {},
   "outputs": [],
   "source": [
    "#FILLING THE NANs WITH THE PREDICTIONS.\n",
    "#Putting all the predicted values for NaNs in a separate variable 'filler'\n",
    "filler=KNNclassifier.predict(ip)"
   ]
  },
  {
   "cell_type": "code",
   "execution_count": 32,
   "metadata": {},
   "outputs": [],
   "source": [
    "#Converting the array to a list \n",
    "filler=filler.tolist() # Converting an array into list "
   ]
  },
  {
   "cell_type": "code",
   "execution_count": 33,
   "metadata": {},
   "outputs": [
    {
     "name": "stdout",
     "output_type": "stream",
     "text": [
      "Counter({'Small': 3264, 'Medium': 495, 'High': 257})\n"
     ]
    }
   ],
   "source": [
    "# Frequency of each value in a list \n",
    "import collections\n",
    "counter=collections.Counter(filler)\n",
    "print(counter)"
   ]
  },
  {
   "cell_type": "code",
   "execution_count": 34,
   "metadata": {},
   "outputs": [
    {
     "data": {
      "text/plain": [
       "4016"
      ]
     },
     "execution_count": 34,
     "metadata": {},
     "output_type": "execute_result"
    }
   ],
   "source": [
    "len(filler)"
   ]
  },
  {
   "cell_type": "code",
   "execution_count": 35,
   "metadata": {},
   "outputs": [
    {
     "data": {
      "text/plain": [
       "4016"
      ]
     },
     "execution_count": 35,
     "metadata": {},
     "output_type": "execute_result"
    }
   ],
   "source": [
    "#To make sure that the number of predicted values for nulls and # of nulls are equal.\n",
    "sum(dataset['Outlet_Size'].isnull())"
   ]
  },
  {
   "cell_type": "code",
   "execution_count": 36,
   "metadata": {},
   "outputs": [],
   "source": [
    "# FIlling all the NaN values with the predicted values.\n",
    "dataset.loc[dataset.Outlet_Size.isnull(), 'Outlet_Size'] = filler"
   ]
  },
  {
   "cell_type": "code",
   "execution_count": 37,
   "metadata": {},
   "outputs": [],
   "source": [
    "#Replacing the missing values with mode. \n",
    "#import statistics\n",
    "#dataset['Outlet_Size']=dataset['Outlet_Size'].fillna(statistics.mode(dataset['Outlet_Size']))\n",
    "##################### 4th categorical variable si kind of solved "
   ]
  },
  {
   "cell_type": "code",
   "execution_count": 38,
   "metadata": {},
   "outputs": [
    {
     "data": {
      "text/plain": [
       "Supermarket Type1    9294\n",
       "Grocery Store        1805\n",
       "Supermarket Type3    1559\n",
       "Supermarket Type2    1546\n",
       "Name: Outlet_Type, dtype: int64"
      ]
     },
     "execution_count": 38,
     "metadata": {},
     "output_type": "execute_result"
    }
   ],
   "source": [
    "dataset['Outlet_Type'].value_counts()"
   ]
  },
  {
   "cell_type": "code",
   "execution_count": 39,
   "metadata": {},
   "outputs": [
    {
     "data": {
      "text/plain": [
       "0"
      ]
     },
     "execution_count": 39,
     "metadata": {},
     "output_type": "execute_result"
    }
   ],
   "source": [
    "# Total number of missing values in each feature\n",
    "sum(dataset['Outlet_Type'].isnull())"
   ]
  },
  {
   "cell_type": "raw",
   "metadata": {},
   "source": [
    "NOW LET US DEAL WITH THE NUMERICAL VALUES\n",
    "TO DO: Null Value check, outliers.\n",
    "    1) Item_MRP\n",
    "    2) Item_Outlet_Sales\n",
    "    3) Item_Visibility\n",
    "    4) Item_Weight\n",
    "    5) Outlet_Establishment_Year "
   ]
  },
  {
   "cell_type": "code",
   "execution_count": 41,
   "metadata": {},
   "outputs": [
    {
     "data": {
      "text/plain": [
       "0"
      ]
     },
     "execution_count": 41,
     "metadata": {},
     "output_type": "execute_result"
    }
   ],
   "source": [
    "#NUll value check \n",
    "sum(dataset['Item_MRP'].isnull())"
   ]
  },
  {
   "cell_type": "code",
   "execution_count": 42,
   "metadata": {},
   "outputs": [],
   "source": [
    "#Outlier check\n",
    "import seaborn as sns"
   ]
  },
  {
   "cell_type": "code",
   "execution_count": 43,
   "metadata": {},
   "outputs": [
    {
     "data": {
      "text/plain": [
       "<matplotlib.axes._subplots.AxesSubplot at 0x234a9254a90>"
      ]
     },
     "execution_count": 43,
     "metadata": {},
     "output_type": "execute_result"
    },
    {
     "data": {
      "image/png": "[encoded data removed]",
      "text/plain": [
       "<Figure size 432x288 with 1 Axes>"
      ]
     },
     "metadata": {
      "needs_background": "light"
     },
     "output_type": "display_data"
    }
   ],
   "source": [
    "sns.boxplot(dataset['Item_MRP'])"
   ]
  },
  {
   "cell_type": "code",
   "execution_count": 44,
   "metadata": {},
   "outputs": [
    {
     "data": {
      "text/plain": [
       "<matplotlib.axes._subplots.AxesSubplot at 0x234a930a198>"
      ]
     },
     "execution_count": 44,
     "metadata": {},
     "output_type": "execute_result"
    },
    {
     "data": {
      "image/png": "[encoded data removed]",
      "text/plain": [
       "<Figure size 432x288 with 1 Axes>"
      ]
     },
     "metadata": {
      "needs_background": "light"
     },
     "output_type": "display_data"
    }
   ],
   "source": [
    "sns.boxplot(dataset['Item_Visibility'])"
   ]
  },
  {
   "cell_type": "code",
   "execution_count": 43,
   "metadata": {},
   "outputs": [],
   "source": [
    "#Replacing the 0 visibity with the mean visibility\n",
    "import statistics\n",
    "statistics.mean(dataset['Item_Visibility'])\n",
    "dataset['Item_Visibility']=dataset['Item_Visibility'].replace(0,0.06595278007399324)"
   ]
  },
  {
   "cell_type": "code",
   "execution_count": 44,
   "metadata": {},
   "outputs": [
    {
     "data": {
      "text/plain": [
       "<matplotlib.collections.PathCollection at 0x1afa8292208>"
      ]
     },
     "execution_count": 44,
     "metadata": {},
     "output_type": "execute_result"
    },
    {
     "data": {
      "image/png": "[encoded data removed]",
      "text/plain": [
       "<Figure size 432x288 with 1 Axes>"
      ]
     },
     "metadata": {
      "needs_background": "light"
     },
     "output_type": "display_data"
    }
   ],
   "source": [
    "plt.scatter(l,dataset['Item_Visibility'])"
   ]
  },
  {
   "cell_type": "code",
   "execution_count": 45,
   "metadata": {},
   "outputs": [
    {
     "data": {
      "text/plain": [
       "0.328390948"
      ]
     },
     "execution_count": 45,
     "metadata": {},
     "output_type": "execute_result"
    }
   ],
   "source": [
    "max(dataset['Item_Visibility'])"
   ]
  },
  {
   "cell_type": "code",
   "execution_count": 46,
   "metadata": {},
   "outputs": [
    {
     "data": {
      "text/plain": [
       "<matplotlib.axes._subplots.AxesSubplot at 0x1afa82ca438>"
      ]
     },
     "execution_count": 46,
     "metadata": {},
     "output_type": "execute_result"
    },
    {
     "data": {
      "image/png": "[encoded data removed]",
      "text/plain": [
       "<Figure size 432x288 with 1 Axes>"
      ]
     },
     "metadata": {
      "needs_background": "light"
     },
     "output_type": "display_data"
    }
   ],
   "source": [
    "sns.boxplot(dataset['Item_Visibility'])"
   ]
  },
  {
   "cell_type": "raw",
   "metadata": {},
   "source": [
    "Observations:\n",
    "    1) We have univariate outliers"
   ]
  },
  {
   "cell_type": "code",
   "execution_count": 49,
   "metadata": {},
   "outputs": [
    {
     "data": {
      "text/plain": [
       "2439"
      ]
     },
     "execution_count": 49,
     "metadata": {},
     "output_type": "execute_result"
    }
   ],
   "source": [
    "# null value check\n",
    "sum(dataset['Item_Weight'].isnull())"
   ]
  },
  {
   "cell_type": "code",
   "execution_count": 50,
   "metadata": {},
   "outputs": [
    {
     "data": {
      "text/html": [
       "<div>\n",
       "<style scoped>\n",
       "    .dataframe tbody tr th:only-of-type {\n",
       "        vertical-align: middle;\n",
       "    }\n",
       "\n",
       "    .dataframe tbody tr th {\n",
       "        vertical-align: top;\n",
       "    }\n",
       "\n",
       "    .dataframe thead th {\n",
       "        text-align: right;\n",
       "    }\n",
       "</style>\n",
       "<table border=\"1\" class=\"dataframe\">\n",
       "  <thead>\n",
       "    <tr style=\"text-align: right;\">\n",
       "      <th></th>\n",
       "      <th>Item_Fat_Content</th>\n",
       "      <th>Item_Identifier</th>\n",
       "      <th>Item_MRP</th>\n",
       "      <th>Item_Outlet_Sales</th>\n",
       "      <th>Item_Type</th>\n",
       "      <th>Item_Visibility</th>\n",
       "      <th>Item_Weight</th>\n",
       "      <th>Outlet_Establishment_Year</th>\n",
       "      <th>Outlet_Identifier</th>\n",
       "      <th>Outlet_Location_Type</th>\n",
       "      <th>Outlet_Size</th>\n",
       "      <th>Outlet_Type</th>\n",
       "    </tr>\n",
       "  </thead>\n",
       "  <tbody>\n",
       "    <tr>\n",
       "      <th>0</th>\n",
       "      <td>Low Fat</td>\n",
       "      <td>FDA15</td>\n",
       "      <td>249.8092</td>\n",
       "      <td>3735.138</td>\n",
       "      <td>Dairy</td>\n",
       "      <td>0.016047</td>\n",
       "      <td>9.3</td>\n",
       "      <td>1999</td>\n",
       "      <td>OUT049</td>\n",
       "      <td>Tier 1</td>\n",
       "      <td>Medium</td>\n",
       "      <td>Supermarket Type1</td>\n",
       "    </tr>\n",
       "  </tbody>\n",
       "</table>\n",
       "</div>"
      ],
      "text/plain": [
       "  Item_Fat_Content Item_Identifier  Item_MRP  Item_Outlet_Sales Item_Type  \\\n",
       "0          Low Fat           FDA15  249.8092           3735.138     Dairy   \n",
       "\n",
       "   Item_Visibility  Item_Weight  Outlet_Establishment_Year Outlet_Identifier  \\\n",
       "0         0.016047          9.3                       1999            OUT049   \n",
       "\n",
       "  Outlet_Location_Type Outlet_Size        Outlet_Type  \n",
       "0               Tier 1      Medium  Supermarket Type1  "
      ]
     },
     "execution_count": 50,
     "metadata": {},
     "output_type": "execute_result"
    }
   ],
   "source": [
    "dataset.head(1)\n"
   ]
  },
  {
   "cell_type": "code",
   "execution_count": 51,
   "metadata": {},
   "outputs": [],
   "source": [
    "# NOw let us consider, Item_Fat_Content,Item_Identifier,Item_Type as the input variables\n",
    "# Item_Weight is the output variable\n",
    "# Step-1: take all iputs in 1 variableand output in other variable.\n",
    "# Step-2: label encode Item_Fat_Content\n",
    "# Step-3: OHE Item_Identifier and Item_Type\n"
   ]
  },
  {
   "cell_type": "code",
   "execution_count": 52,
   "metadata": {},
   "outputs": [
    {
     "data": {
      "text/plain": [
       "FDZ33    10\n",
       "FDN38    10\n",
       "FDA43    10\n",
       "NCQ29    10\n",
       "DRF15    10\n",
       "NCL17    10\n",
       "FDW19    10\n",
       "DRK49    10\n",
       "NCH30    10\n",
       "FDX31    10\n",
       "FDF41    10\n",
       "NCF18    10\n",
       "FDZ44    10\n",
       "DRL49    10\n",
       "FDU13    10\n",
       "NCU29    10\n",
       "FDF21    10\n",
       "FDV12    10\n",
       "FDK56    10\n",
       "FDV20    10\n",
       "FDB38    10\n",
       "FDP25    10\n",
       "FDS25    10\n",
       "FDS03    10\n",
       "FDD14    10\n",
       "FDA07    10\n",
       "NCI06    10\n",
       "FDD16    10\n",
       "FDM60    10\n",
       "NCM43    10\n",
       "         ..\n",
       "NCG19     8\n",
       "FDA51     8\n",
       "FDD44     8\n",
       "FDB56     8\n",
       "FDR55     8\n",
       "FDC29     8\n",
       "FDX11     8\n",
       "FDE57     8\n",
       "FDQ44     8\n",
       "NCY05     8\n",
       "FDB16     8\n",
       "FDF53     8\n",
       "FDF45     8\n",
       "FDY11     8\n",
       "FDS07     8\n",
       "FDU10     8\n",
       "FDI02     8\n",
       "FDH58     7\n",
       "FDR51     7\n",
       "FDO33     7\n",
       "FDX49     7\n",
       "FDM52     7\n",
       "FDI46     7\n",
       "FDS22     7\n",
       "FDM10     7\n",
       "NCL42     7\n",
       "DRN11     7\n",
       "NCW54     7\n",
       "FDL50     7\n",
       "FDM50     7\n",
       "Name: Item_Identifier, Length: 1559, dtype: int64"
      ]
     },
     "execution_count": 52,
     "metadata": {},
     "output_type": "execute_result"
    }
   ],
   "source": [
    "dataset['Item_Identifier'].value_counts()"
   ]
  },
  {
   "cell_type": "code",
   "execution_count": 53,
   "metadata": {},
   "outputs": [],
   "source": [
    "#Step-1\n",
    "IFC=dataset['Item_Fat_Content']\n",
    "\n",
    "from sklearn.preprocessing import LabelEncoder, OneHotEncoder\n",
    "labelencoder_1=LabelEncoder()\n",
    "IFC=labelencoder_1.fit_transform(IFC)\n",
    "IFC=labelencoder_1.fit_transform(IFC)\n",
    "\n",
    "Item_Identifier and Item_Type"
   ]
  },
  {
   "cell_type": "code",
   "execution_count": 55,
   "metadata": {},
   "outputs": [],
   "source": [
    "II =pd.get_dummies(dataset[['Item_Identifier']])\n"
   ]
  },
  {
   "cell_type": "code",
   "execution_count": 59,
   "metadata": {},
   "outputs": [],
   "source": [
    "from sklearn.decomposition import PCA\n",
    "pca_1=PCA(n_components= None)\n",
    "II=pca_1.fit_transform(II)\n",
    "explained_variance=pca_1.explained_variance_ratio_"
   ]
  },
  {
   "cell_type": "code",
   "execution_count": 63,
   "metadata": {},
   "outputs": [
    {
     "ename": "AttributeError",
     "evalue": "'numpy.ndarray' object has no attribute 'value_counts'",
     "output_type": "error",
     "traceback": [
      "\u001b[1;31m---------------------------------------------------------------------------\u001b[0m",
      "\u001b[1;31mAttributeError\u001b[0m                            Traceback (most recent call last)",
      "\u001b[1;32m<ipython-input-63-ea6c39d53e4b>\u001b[0m in \u001b[0;36m<module>\u001b[1;34m\u001b[0m\n\u001b[1;32m----> 1\u001b[1;33m \u001b[0mexplained_variance\u001b[0m\u001b[1;33m.\u001b[0m\u001b[0mvalue_counts\u001b[0m\u001b[1;33m\u001b[0m\u001b[1;33m\u001b[0m\u001b[0m\n\u001b[0m",
      "\u001b[1;31mAttributeError\u001b[0m: 'numpy.ndarray' object has no attribute 'value_counts'"
     ]
    }
   ],
   "source": [
    "explained_variance.value_counts"
   ]
  },
  {
   "cell_type": "code",
   "execution_count": null,
   "metadata": {},
   "outputs": [],
   "source": [
    "# Step-2\n",
    "from sklearn.preprocessing import LabelEncoder, OneHotEncoder\n",
    "labelencoder_1=LabelEncoder()\n",
    "Outlet_Size_NotNulls_x['Outlet_Location_Type']=labelencoder_x.fit_transform(Outlet_Size_NotNulls_x['Outlet_Location_Type'])\n",
    "Outlet_Size_NotNulls_x['Outlet_Type']=labelencoder_x.fit_transform(Outlet_Size_NotNulls_x['Outlet_Type'])"
   ]
  },
  {
   "cell_type": "code",
   "execution_count": null,
   "metadata": {},
   "outputs": [],
   "source": [
    "python outlier detection library\n",
    "gives % of outliers and inliers.\n",
    "statquest-youtube\n",
    "adjusted r2 for multiple features.\n",
    "Medium: platform posts on DL and ML : theoritical explanation\n",
    "combination charts: 1 x and 2 y axis"
   ]
  }
 ],
 "metadata": {
  "kernelspec": {
   "display_name": "Python 3",
   "language": "python",
   "name": "python3"
  },
  "language_info": {
   "codemirror_mode": {
    "name": "ipython",
    "version": 3
   },
   "file_extension": ".py",
   "mimetype": "text/x-python",
   "name": "python",
   "nbconvert_exporter": "python",
   "pygments_lexer": "ipython3",
   "version": "3.7.3"
  }
 },
 "nbformat": 4,
 "nbformat_minor": 2
}
